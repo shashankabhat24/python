{
 "cells": [
  {
   "cell_type": "code",
   "execution_count": 5,
   "id": "2f60b670",
   "metadata": {},
   "outputs": [
    {
     "name": "stdout",
     "output_type": "stream",
     "text": [
      "2022-03-22 12:58:58.392005\n"
     ]
    }
   ],
   "source": [
    "import datetime\n",
    "\n",
    "time=datetime.datetime.now()\n",
    "print(time)"
   ]
  },
  {
   "cell_type": "code",
   "execution_count": 6,
   "id": "9bff7640",
   "metadata": {},
   "outputs": [
    {
     "data": {
      "text/plain": [
       "'d'"
      ]
     },
     "execution_count": 6,
     "metadata": {},
     "output_type": "execute_result"
    }
   ],
   "source": [
    "a=\"d\"\n",
    "a"
   ]
  },
  {
   "cell_type": "code",
   "execution_count": null,
   "id": "51edcbe5",
   "metadata": {},
   "outputs": [],
   "source": [
    "weigth=int(input(\"hey what is your weigth? \"))\n",
    "po=weight*0.45\n",
    "print(po)"
   ]
  },
  {
   "cell_type": "code",
   "execution_count": null,
   "id": "8b762c2a",
   "metadata": {},
   "outputs": [],
   "source": [
    "weigth=int(input(\"hey what is your weigth? \"))\n",
    "po=weight*0.45\n",
    "print(po)"
   ]
  },
  {
   "cell_type": "code",
   "execution_count": null,
   "id": "1a803a32",
   "metadata": {},
   "outputs": [],
   "source": [
    "weight=int(input(\"hey what is your age??\"))\n",
    "po=weight*0.45\n",
    "po"
   ]
  },
  {
   "cell_type": "code",
   "execution_count": null,
   "id": "12194c9b",
   "metadata": {},
   "outputs": [],
   "source": []
  }
 ],
 "metadata": {
  "kernelspec": {
   "display_name": "Python 3 (ipykernel)",
   "language": "python",
   "name": "python3"
  },
  "language_info": {
   "codemirror_mode": {
    "name": "ipython",
    "version": 3
   },
   "file_extension": ".py",
   "mimetype": "text/x-python",
   "name": "python",
   "nbconvert_exporter": "python",
   "pygments_lexer": "ipython3",
   "version": "3.9.7"
  }
 },
 "nbformat": 4,
 "nbformat_minor": 5
}
