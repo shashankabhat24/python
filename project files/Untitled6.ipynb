{
 "cells": [
  {
   "cell_type": "code",
   "execution_count": 1,
   "id": "6bf4f101",
   "metadata": {},
   "outputs": [
    {
     "data": {
      "text/plain": [
       "'hello'"
      ]
     },
     "execution_count": 1,
     "metadata": {},
     "output_type": "execute_result"
    }
   ],
   "source": [
    "a=\"hello\"\n",
    "a"
   ]
  },
  {
   "cell_type": "code",
   "execution_count": 5,
   "id": "2ed801e6",
   "metadata": {},
   "outputs": [
    {
     "name": "stdout",
     "output_type": "stream",
     "text": [
      "enter 10\n",
      "it is 10\n"
     ]
    }
   ],
   "source": [
    "a=int(input(\"enter \"))\n",
    "\n",
    "if a==10:\n",
    "    print(\"it is 10\")\n",
    "    \n",
    "else:\n",
    "        print(\"it is not 10\")\n"
   ]
  },
  {
   "cell_type": "code",
   "execution_count": 6,
   "id": "a8089413",
   "metadata": {},
   "outputs": [
    {
     "data": {
      "text/plain": [
       "['apple', 'orange', 'mango', 'grapes']"
      ]
     },
     "execution_count": 6,
     "metadata": {},
     "output_type": "execute_result"
    }
   ],
   "source": [
    "list=['apple','orange','mango','grapes']\n",
    "list"
   ]
  },
  {
   "cell_type": "code",
   "execution_count": 7,
   "id": "1ac99430",
   "metadata": {},
   "outputs": [
    {
     "data": {
      "text/plain": [
       "'mango'"
      ]
     },
     "execution_count": 7,
     "metadata": {},
     "output_type": "execute_result"
    }
   ],
   "source": [
    "list[2]"
   ]
  },
  {
   "cell_type": "code",
   "execution_count": 8,
   "id": "07634ecf",
   "metadata": {},
   "outputs": [
    {
     "data": {
      "text/plain": [
       "['apple', 'mango']"
      ]
     },
     "execution_count": 8,
     "metadata": {},
     "output_type": "execute_result"
    }
   ],
   "source": [
    "list[0:4:2]\n"
   ]
  },
  {
   "cell_type": "code",
   "execution_count": 12,
   "id": "5a14e420",
   "metadata": {},
   "outputs": [],
   "source": []
  },
  {
   "cell_type": "code",
   "execution_count": 13,
   "id": "41edec46",
   "metadata": {},
   "outputs": [
    {
     "data": {
      "text/plain": [
       "['apple', 'orange', 'mango', 'grapes']"
      ]
     },
     "execution_count": 13,
     "metadata": {},
     "output_type": "execute_result"
    }
   ],
   "source": [
    "list"
   ]
  },
  {
   "cell_type": "code",
   "execution_count": null,
   "id": "648e7186",
   "metadata": {},
   "outputs": [],
   "source": [
    "def hello(name,age):\n",
    "    print(\"hello\",name,\"i heard you are \",age,\" years old\")\n",
    "\n",
    "\n",
    "\n",
    "name=input(\"what is your name \")\n",
    "age=int(input(\"what is your age \"))\n",
    "\n",
    "hello(name,age)"
   ]
  },
  {
   "cell_type": "code",
   "execution_count": null,
   "id": "5441891d",
   "metadata": {},
   "outputs": [],
   "source": [
    "class toby:\n",
    "    name=\"shashank\"\n",
    "    \n",
    "    \n",
    "tas=toby()\n",
    "\n",
    "print(tas.name)"
   ]
  },
  {
   "cell_type": "code",
   "execution_count": null,
   "id": "89336b5e",
   "metadata": {},
   "outputs": [],
   "source": [
    "def hello(name,age):\n",
    "    print(\"hello\",name,\"i heard you are \",age,\" years old\")\n",
    "\n",
    "\n",
    "\n",
    "name=input(\"what is your name \")\n",
    "age=int(input(\"what is your age \"))\n",
    "\n",
    "hello(name,age)"
   ]
  },
  {
   "cell_type": "code",
   "execution_count": null,
   "id": "1f9505d4",
   "metadata": {},
   "outputs": [],
   "source": []
  }
 ],
 "metadata": {
  "kernelspec": {
   "display_name": "Python 3 (ipykernel)",
   "language": "python",
   "name": "python3"
  },
  "language_info": {
   "codemirror_mode": {
    "name": "ipython",
    "version": 3
   },
   "file_extension": ".py",
   "mimetype": "text/x-python",
   "name": "python",
   "nbconvert_exporter": "python",
   "pygments_lexer": "ipython3",
   "version": "3.9.7"
  }
 },
 "nbformat": 4,
 "nbformat_minor": 5
}
