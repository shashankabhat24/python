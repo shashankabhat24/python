{
 "cells": [
  {
   "cell_type": "code",
   "execution_count": 10,
   "id": "51f9dd65",
   "metadata": {},
   "outputs": [
    {
     "name": "stdout",
     "output_type": "stream",
     "text": [
      "ARTIFICIAL INTELLIGENCE\n",
      "artificial intelligence\n"
     ]
    }
   ],
   "source": [
    "course=\"artificial intelligence\"\n",
    "\n",
    "print(course.upper())\n",
    "print(course.lower())\n"
   ]
  },
  {
   "cell_type": "code",
   "execution_count": 11,
   "id": "61aa448b",
   "metadata": {},
   "outputs": [
    {
     "data": {
      "text/plain": [
       "''"
      ]
     },
     "execution_count": 11,
     "metadata": {},
     "output_type": "execute_result"
    }
   ],
   "source": [
    "a=\"\"\n",
    "a"
   ]
  },
  {
   "cell_type": "code",
   "execution_count": 12,
   "id": "548e8dd9",
   "metadata": {},
   "outputs": [
    {
     "data": {
      "text/plain": [
       "'artificial intelligence and neural networks'"
      ]
     },
     "execution_count": 12,
     "metadata": {},
     "output_type": "execute_result"
    }
   ],
   "source": [
    "course=\"artificial intelligence and neural networks\"\n",
    "course\n"
   ]
  },
  {
   "cell_type": "code",
   "execution_count": 13,
   "id": "02ee2e94",
   "metadata": {},
   "outputs": [
    {
     "name": "stdout",
     "output_type": "stream",
     "text": [
      "28\n"
     ]
    }
   ],
   "source": [
    "print(course.find(\"neural\"))"
   ]
  },
  {
   "cell_type": "code",
   "execution_count": 14,
   "id": "b3df3657",
   "metadata": {},
   "outputs": [
    {
     "name": "stdout",
     "output_type": "stream",
     "text": [
      "artificial intelligence and begin networks\n"
     ]
    }
   ],
   "source": [
    "print(course.replace(\"neural\",\"begin\"))"
   ]
  },
  {
   "cell_type": "code",
   "execution_count": 15,
   "id": "2e32aba4",
   "metadata": {},
   "outputs": [
    {
     "name": "stdout",
     "output_type": "stream",
     "text": [
      "90\n"
     ]
    }
   ],
   "source": [
    "x=90.25\n",
    "print(round(x))"
   ]
  },
  {
   "cell_type": "code",
   "execution_count": 16,
   "id": "e2293970",
   "metadata": {},
   "outputs": [
    {
     "name": "stdout",
     "output_type": "stream",
     "text": [
      "12.5\n"
     ]
    }
   ],
   "source": [
    "print(abs(-12.5))"
   ]
  },
  {
   "cell_type": "code",
   "execution_count": 19,
   "id": "03c82f02",
   "metadata": {},
   "outputs": [
    {
     "name": "stdout",
     "output_type": "stream",
     "text": [
      "12\n"
     ]
    }
   ],
   "source": [
    "import math\n",
    "\n",
    "x=12.4\n",
    "print(math.floor(x))\n"
   ]
  },
  {
   "cell_type": "code",
   "execution_count": 29,
   "id": "0bd3d795",
   "metadata": {},
   "outputs": [
    {
     "name": "stdout",
     "output_type": "stream",
     "text": [
      "he is eligible to play sports \n"
     ]
    }
   ],
   "source": [
    "physical=True\n",
    "\n",
    "mental=True\n",
    "\n",
    "\n",
    "if physical and mental:\n",
    "    print(\"he is eligible to play sports \")\n",
    "    \n",
    "else:\n",
    "    print(\"well we should think about his health conditions\")"
   ]
  },
  {
   "cell_type": "code",
   "execution_count": null,
   "id": "40694821",
   "metadata": {},
   "outputs": [],
   "source": []
  }
 ],
 "metadata": {
  "kernelspec": {
   "display_name": "Python 3 (ipykernel)",
   "language": "python",
   "name": "python3"
  },
  "language_info": {
   "codemirror_mode": {
    "name": "ipython",
    "version": 3
   },
   "file_extension": ".py",
   "mimetype": "text/x-python",
   "name": "python",
   "nbconvert_exporter": "python",
   "pygments_lexer": "ipython3",
   "version": "3.9.7"
  }
 },
 "nbformat": 4,
 "nbformat_minor": 5
}
