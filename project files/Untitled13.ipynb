{
 "cells": [
  {
   "cell_type": "code",
   "execution_count": 2,
   "id": "00adf03c",
   "metadata": {},
   "outputs": [
    {
     "name": "stdout",
     "output_type": "stream",
     "text": [
      ">>hey it's nice to meet you\n",
      "['hey', \"it's\", 'nice', 'to', 'meet', 'you']\n"
     ]
    }
   ],
   "source": [
    "message=input(\">>\")\n",
    "words=message.split()\n",
    "print(words)\n"
   ]
  },
  {
   "cell_type": "code",
   "execution_count": null,
   "id": "ca739b58",
   "metadata": {},
   "outputs": [],
   "source": [
    "def function(first,last):\n",
    "    print(f\"hello{first} and {last} welcome aboard \")\n",
    "    \n",
    "first=input(\"hey enter your first name \")\n",
    "last=input(\"hey enter your collegue name \")\n",
    "\n",
    "function(first,last)"
   ]
  },
  {
   "cell_type": "code",
   "execution_count": 2,
   "id": "9bca90d1",
   "metadata": {},
   "outputs": [
    {
     "name": "stdout",
     "output_type": "stream",
     "text": [
      "hello \n"
     ]
    }
   ],
   "source": [
    "class mess:\n",
    "    def fun(self):\n",
    "        print(\"hello \")\n",
    "        \n",
    "po = mess()\n",
    "po.fun()"
   ]
  },
  {
   "cell_type": "code",
   "execution_count": null,
   "id": "dd7f9494",
   "metadata": {},
   "outputs": [],
   "source": [
    "import random\n",
    "process = True\n",
    "no=random.randint(0,20)\n",
    "chance=5\n",
    "name=input(\"hey what is your name \")\n",
    "print(f\"hello {name} welcome to the guessing competation  \")\n",
    "print(\" \\n you have only 5 chances to guess the number \\n well then lets play the game\")\n",
    "guess=int(input(\"guess your number between 0 to 20 \\n \"))\n",
    "\n",
    "while process:\n",
    "    if int(guess)==no:\n",
    "        print(\"hey bud you wo the game \")\n",
    "        option=input(\"would you like to play the game again \\n if yes please press 1 \\n if not press 2/n \")\n",
    "\n",
    "\n",
    "    elif int(guess)<no:\n",
    "         print(\"sorry bud your no is less than the secret random number\")\n",
    "      \n",
    "    \n",
    "    elif int(guess) >no:\n",
    "         print(\"sorry bud your no is greater than the secret random number\")\n",
    "           \n",
    "            \n",
    "    \n",
    "    else:\n",
    "        pass\n",
    "    \n",
    "    \n",
    "    if int(chance)==5:\n",
    "        print(\"sorry you have reached the guessing limit of the game\")\n",
    "        \n",
    "        print(\"anyway the secret number is::  \",no)\n",
    "        \n",
    "        exit()\n"
   ]
  },
  {
   "cell_type": "code",
   "execution_count": 1,
   "id": "faca7817",
   "metadata": {},
   "outputs": [
    {
     "data": {
      "text/plain": [
       "[0, 1, 2, 3, 4, 5, 6, 7, 8, 9, 10, 11, 12, 13, 14, 15, 16, 17, 18, 19]"
      ]
     },
     "execution_count": 1,
     "metadata": {},
     "output_type": "execute_result"
    }
   ],
   "source": [
    "numbers=list(range(20))\n",
    "numbers"
   ]
  },
  {
   "cell_type": "code",
   "execution_count": 6,
   "id": "816d8301",
   "metadata": {},
   "outputs": [
    {
     "name": "stdout",
     "output_type": "stream",
     "text": [
      "array('f', [1.5, 2.0, 3.0])\n"
     ]
    }
   ],
   "source": [
    "from array import array\n",
    "\n",
    "numbers=array('f',[1.5,2,3])\n",
    "print(numbers)"
   ]
  },
  {
   "cell_type": "code",
   "execution_count": 8,
   "id": "2cd83df9",
   "metadata": {},
   "outputs": [
    {
     "name": "stdout",
     "output_type": "stream",
     "text": [
      "1 2 3 5 4 4\n"
     ]
    }
   ],
   "source": [
    "num=[1,2,3,5,4,4]\n",
    "print(*num)"
   ]
  },
  {
   "cell_type": "code",
   "execution_count": null,
   "id": "88d3b349",
   "metadata": {},
   "outputs": [],
   "source": []
  }
 ],
 "metadata": {
  "kernelspec": {
   "display_name": "Python 3 (ipykernel)",
   "language": "python",
   "name": "python3"
  },
  "language_info": {
   "codemirror_mode": {
    "name": "ipython",
    "version": 3
   },
   "file_extension": ".py",
   "mimetype": "text/x-python",
   "name": "python",
   "nbconvert_exporter": "python",
   "pygments_lexer": "ipython3",
   "version": "3.9.7"
  }
 },
 "nbformat": 4,
 "nbformat_minor": 5
}
