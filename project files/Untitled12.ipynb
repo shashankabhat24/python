{
 "cells": [
  {
   "cell_type": "code",
   "execution_count": null,
   "id": "ddbaf1fa",
   "metadata": {},
   "outputs": [],
   "source": [
    "import math\n",
    "c=int(input('enter the number to distinguish the number into different form= '))\n",
    "print('floor of the number is ',math.floor(c))"
   ]
  },
  {
   "cell_type": "code",
   "execution_count": null,
   "id": "0a87aca5",
   "metadata": {},
   "outputs": [],
   "source": [
    "import math\n",
    "c=int(input('enter the number to distinguish the number into different form= '))\n",
    "print('floor of the number is ',math.floor(c))"
   ]
  },
  {
   "cell_type": "code",
   "execution_count": null,
   "id": "deb3352a",
   "metadata": {},
   "outputs": [],
   "source": [
    "import math\n",
    "c=int(input('enter the number to distinguish the number into different form= '))\n",
    "print('floor of the number is ',math.floor(c))"
   ]
  },
  {
   "cell_type": "code",
   "execution_count": 4,
   "id": "6f194cc9",
   "metadata": {},
   "outputs": [
    {
     "name": "stdout",
     "output_type": "stream",
     "text": [
      "5\n"
     ]
    }
   ],
   "source": [
    "import math\n",
    "print(math.ceil(4.6))\n",
    "\n"
   ]
  },
  {
   "cell_type": "code",
   "execution_count": 10,
   "id": "620d4be9",
   "metadata": {},
   "outputs": [
    {
     "name": "stdout",
     "output_type": "stream",
     "text": [
      "enter your name \n",
      "Noneshashank\n",
      "enter your age =19\n",
      "is that true or not k\n",
      "hello shashankhow are you i heard you are 19years old and i think you can come with us to the trip\n"
     ]
    }
   ],
   "source": [
    "name=input(print('enter your name '))\n",
    "age=int(input('enter your age ='))\n",
    "\n",
    "if age>=19:\n",
    " print(f\"hello {name}how are you i heard you are {age}years old and i think you can come with us to the trip\" )\n",
    "else:\n",
    "    print('hey sorrry you can not come with us')"
   ]
  },
  {
   "cell_type": "code",
   "execution_count": 1,
   "id": "a1bbe672",
   "metadata": {},
   "outputs": [
    {
     "name": "stdout",
     "output_type": "stream",
     "text": [
      "**\n",
      "****\n",
      "******\n"
     ]
    }
   ],
   "source": [
    "i=0\n",
    "while i<=5:\n",
    "    i=i+2\n",
    "    print(i*\"*\")"
   ]
  },
  {
   "cell_type": "code",
   "execution_count": null,
   "id": "a395e487",
   "metadata": {},
   "outputs": [],
   "source": [
    "secretnumber=10\n",
    "guesscount=0\n",
    "guesslimit=3\n",
    "\n",
    "while guesscount < guesslimit:\n",
    "    guess=int(input(\"enter a guess\"))\n",
    "    guesscount+=1\n",
    "    \n",
    "    if guess==secretnumber:\n",
    "           print('hey you won!! ')\n",
    "\n",
    "    \n",
    "\n",
    "\n",
    "    "
   ]
  },
  {
   "cell_type": "code",
   "execution_count": 17,
   "id": "f6726f8a",
   "metadata": {},
   "outputs": [
    {
     "name": "stdout",
     "output_type": "stream",
     "text": [
      "0 0\n",
      "0 1\n",
      "0 2\n",
      "1 0\n",
      "1 1\n",
      "1 2\n",
      "2 0\n",
      "2 1\n",
      "2 2\n",
      "3 0\n",
      "3 1\n",
      "3 2\n"
     ]
    }
   ],
   "source": [
    "for i in range(4):\n",
    "    for c in range(3):\n",
    "        print(i,c)"
   ]
  },
  {
   "cell_type": "code",
   "execution_count": 34,
   "id": "4992f819",
   "metadata": {},
   "outputs": [
    {
     "name": "stdout",
     "output_type": "stream",
     "text": [
      "\n",
      "*\n",
      "\n",
      "*\n",
      "\n",
      "*\n",
      "\n",
      "*\n",
      "\n",
      "*\n"
     ]
    }
   ],
   "source": [
    "for i in range(10):\n",
    "    i=i%2\n",
    "    print(i*'*')\n"
   ]
  },
  {
   "cell_type": "code",
   "execution_count": 26,
   "id": "0a1c1f72",
   "metadata": {},
   "outputs": [
    {
     "name": "stdout",
     "output_type": "stream",
     "text": [
      "red\n",
      "green\n",
      "yellow\n",
      "violet\n"
     ]
    }
   ],
   "source": [
    "colors=['red','green','yellow','violet']\n",
    "for i in colors:\n",
    "    print(i)"
   ]
  },
  {
   "cell_type": "code",
   "execution_count": 35,
   "id": "099a150b",
   "metadata": {},
   "outputs": [
    {
     "name": "stdout",
     "output_type": "stream",
     "text": [
      "*****\n",
      "**\n",
      "*****\n",
      "**\n",
      "*****\n"
     ]
    }
   ],
   "source": [
    "numbers=[5,2,5,2,5]\n",
    "for i in numbers:\n",
    "    print(i*'*')"
   ]
  },
  {
   "cell_type": "code",
   "execution_count": 38,
   "id": "7cf81881",
   "metadata": {},
   "outputs": [
    {
     "name": "stdout",
     "output_type": "stream",
     "text": [
      "84\n"
     ]
    }
   ],
   "source": [
    "numbers=[10,23,56,41,2,32,23,56,41,84,62,21,32,33,44]\n",
    "max=numbers[0]\n",
    "\n",
    "for number in numbers:\n",
    "    if number>max:\n",
    "        max=number\n",
    "        \n",
    "print(max)"
   ]
  },
  {
   "cell_type": "code",
   "execution_count": 40,
   "id": "21afcc5f",
   "metadata": {},
   "outputs": [
    {
     "name": "stdout",
     "output_type": "stream",
     "text": [
      "4\n"
     ]
    }
   ],
   "source": [
    "matrix=[\n",
    "    [1,2,3],\n",
    "    [2,4,6],\n",
    "    [1,4,7]\n",
    "    \n",
    "]\n",
    "\n",
    "print(matrix[2][1])"
   ]
  },
  {
   "cell_type": "code",
   "execution_count": 43,
   "id": "a617fe89",
   "metadata": {},
   "outputs": [
    {
     "name": "stdout",
     "output_type": "stream",
     "text": [
      "None\n",
      "[]\n"
     ]
    }
   ],
   "source": [
    "numbers=[10,23,56,41,2,32,23,56,41,84,62,21,32,33,44]\n",
    "print(numbers.clear())\n",
    "print(numbers)"
   ]
  },
  {
   "cell_type": "code",
   "execution_count": 44,
   "id": "cb4ad090",
   "metadata": {},
   "outputs": [
    {
     "name": "stdout",
     "output_type": "stream",
     "text": [
      "44\n",
      "[10, 23, 56, 41, 2, 32, 23, 56, 41, 84, 62, 21, 32, 33]\n"
     ]
    }
   ],
   "source": [
    "numbers=[10,23,56,41,2,32,23,56,41,84,62,21,32,33,44]\n",
    "print(numbers.pop())\n",
    "print(numbers)"
   ]
  },
  {
   "cell_type": "code",
   "execution_count": 46,
   "id": "97493b07",
   "metadata": {},
   "outputs": [
    {
     "name": "stdout",
     "output_type": "stream",
     "text": [
      "5\n",
      "[10, 23, 56, 41, 2, 32, 23, 56, 41, 84, 62, 21, 32, 33, 44]\n"
     ]
    }
   ],
   "source": [
    "numbers=[10,23,56,41,2,32,23,56,41,84,62,21,32,33,44]\n",
    "print(numbers.index(32))\n",
    "print(numbers)\n"
   ]
  },
  {
   "cell_type": "code",
   "execution_count": 47,
   "id": "cf9580fa",
   "metadata": {},
   "outputs": [
    {
     "name": "stdout",
     "output_type": "stream",
     "text": [
      "None\n",
      "[]\n"
     ]
    }
   ],
   "source": [
    "numbers=[10,23,56,41,2,32,23,56,41,84,62,21,32,33,44]\n",
    "print(numbers.clear())\n",
    "print(numbers)"
   ]
  },
  {
   "cell_type": "code",
   "execution_count": 51,
   "id": "3faa13e0",
   "metadata": {},
   "outputs": [
    {
     "data": {
      "text/plain": [
       "[84, 62, 56, 56, 44, 41, 41, 33, 32, 32, 23, 23, 21, 10, 2]"
      ]
     },
     "execution_count": 51,
     "metadata": {},
     "output_type": "execute_result"
    }
   ],
   "source": [
    "numbers=[10,23,56,41,2,32,23,56,41,84,62,21,32,33,44]\n",
    "numbers.sort()\n",
    "numbers\n",
    "numbers.reverse()\n",
    "numbers\n"
   ]
  },
  {
   "cell_type": "code",
   "execution_count": 53,
   "id": "eaf895e3",
   "metadata": {},
   "outputs": [
    {
     "name": "stdout",
     "output_type": "stream",
     "text": [
      "[10, 23, 56, 41, 2, 32, 23, 56, 41, 84, 62, 21, 32, 33, 44]\n"
     ]
    }
   ],
   "source": [
    "numbers=[10,23,56,41,2,32,23,56,41,84,62,21,32,33,44]\n",
    "\n",
    "\n",
    "numbers2=numbers.copy()\n",
    "print(numbers)"
   ]
  },
  {
   "cell_type": "code",
   "execution_count": 56,
   "id": "98ae0cdf",
   "metadata": {},
   "outputs": [
    {
     "data": {
      "text/plain": [
       "[1, 2, 5, 7, 8, 9, 6, 3, 4, 14]"
      ]
     },
     "execution_count": 56,
     "metadata": {},
     "output_type": "execute_result"
    }
   ],
   "source": [
    "numbers=[1,2,5,7,8,9,6,3,4,1,2,3,6,9,5,5,4,2,6,3,2,14,4,6,3,]\n",
    "uni=[]\n",
    "\n",
    "for number in numbers:\n",
    "    if number not in uni:\n",
    "        uni.append(number)\n",
    "uni"
   ]
  },
  {
   "cell_type": "code",
   "execution_count": 1,
   "id": "510b550e",
   "metadata": {},
   "outputs": [
    {
     "data": {
      "text/plain": [
       "3"
      ]
     },
     "execution_count": 1,
     "metadata": {},
     "output_type": "execute_result"
    }
   ],
   "source": [
    "co=(1,2,3)\n",
    "x,c,v=co\n",
    "v"
   ]
  },
  {
   "cell_type": "code",
   "execution_count": 6,
   "id": "8059d570",
   "metadata": {},
   "outputs": [
    {
     "name": "stdout",
     "output_type": "stream",
     "text": [
      "mar 28 1444\n"
     ]
    }
   ],
   "source": [
    "customer={\n",
    "    \"name\":\"vincenzo\",\n",
    "    \"age\":20,\n",
    "    \"birthdate\":\"mar 28 1444\"\n",
    "}\n",
    "\n",
    "print(customer [\"birthdate\"])"
   ]
  },
  {
   "cell_type": "code",
   "execution_count": 8,
   "id": "137fcef5",
   "metadata": {},
   "outputs": [
    {
     "data": {
      "text/plain": [
       "'today'"
      ]
     },
     "execution_count": 8,
     "metadata": {},
     "output_type": "execute_result"
    }
   ],
   "source": [
    "product={\n",
    "    \"name\":\"samsung\",\n",
    "    \"cons\":\"high quality display and camera quality\",\n",
    "    \"launch\":\"today\"\n",
    "}\n",
    "\n",
    "product[\"launch\"]"
   ]
  },
  {
   "cell_type": "code",
   "execution_count": 9,
   "id": "805e70b0",
   "metadata": {},
   "outputs": [
    {
     "data": {
      "text/plain": [
       "'high quality display and camera quality'"
      ]
     },
     "execution_count": 9,
     "metadata": {},
     "output_type": "execute_result"
    }
   ],
   "source": [
    "product[\"cons\"]"
   ]
  },
  {
   "cell_type": "code",
   "execution_count": null,
   "id": "0a042153",
   "metadata": {},
   "outputs": [
    {
     "name": "stdout",
     "output_type": "stream",
     "text": [
      "guess the number you have to guess the number between 0 to 10\n"
     ]
    }
   ],
   "source": [
    "import numpy as np\n",
    "\n",
    "process=True\n",
    "guess=np.random.randint(10)\n",
    "print('guess the number you have to guess the number between 0 to 10')\n",
    "\n",
    "sec=int(input(\"enter your guess \"))\n",
    "chance=0\n",
    "\n",
    "while process:\n",
    "    if sec == guess:\n",
    "        print(\"hey you won \")\n",
    "        pass\n",
    "    \n",
    "    elif sec < guess:\n",
    "        print(\"sorry your number is less than the secret number \")\n",
    "        chance=chance+1\n",
    "        \n",
    "        \n",
    "    elif sec > guess:\n",
    "        print(\"sorry your number is greater than the secret number \")\n",
    "        chance =chance+1\n",
    "        \n",
    "        \n",
    "    elif int(chance) == 5:\n",
    "        print(\"sorry you have exceeded the limit \")\n",
    "        \n",
    "    else:\n",
    "        print(\"random number is \",guess)\n",
    "    \n",
    "    exit(\"thank you \")\n",
    "        \n"
   ]
  },
  {
   "cell_type": "code",
   "execution_count": null,
   "id": "fd9ee5fc",
   "metadata": {},
   "outputs": [],
   "source": []
  }
 ],
 "metadata": {
  "kernelspec": {
   "display_name": "Python 3 (ipykernel)",
   "language": "python",
   "name": "python3"
  },
  "language_info": {
   "codemirror_mode": {
    "name": "ipython",
    "version": 3
   },
   "file_extension": ".py",
   "mimetype": "text/x-python",
   "name": "python",
   "nbconvert_exporter": "python",
   "pygments_lexer": "ipython3",
   "version": "3.9.7"
  }
 },
 "nbformat": 4,
 "nbformat_minor": 5
}
