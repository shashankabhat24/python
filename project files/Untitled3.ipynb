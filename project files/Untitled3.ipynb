{
 "cells": [
  {
   "cell_type": "code",
   "execution_count": 1,
   "id": "696ec88c",
   "metadata": {},
   "outputs": [
    {
     "name": "stdout",
     "output_type": "stream",
     "text": [
      "hello there\n"
     ]
    }
   ],
   "source": [
    "print(\"hello there\")"
   ]
  },
  {
   "cell_type": "code",
   "execution_count": 3,
   "id": "b028490d",
   "metadata": {},
   "outputs": [
    {
     "name": "stdout",
     "output_type": "stream",
     "text": [
      "you are  awesome\n"
     ]
    }
   ],
   "source": [
    "print(\"you are \"+\" awesome\")"
   ]
  },
  {
   "cell_type": "code",
   "execution_count": 4,
   "id": "e4f15a0a",
   "metadata": {},
   "outputs": [
    {
     "data": {
      "text/plain": [
       "4"
      ]
     },
     "execution_count": 4,
     "metadata": {},
     "output_type": "execute_result"
    }
   ],
   "source": [
    "len(\"bccb\")"
   ]
  },
  {
   "cell_type": "code",
   "execution_count": 6,
   "id": "6b9749e7",
   "metadata": {},
   "outputs": [],
   "source": [
    "a=\"ABC(str(2))\""
   ]
  },
  {
   "cell_type": "code",
   "execution_count": 8,
   "id": "d5dd1c21",
   "metadata": {},
   "outputs": [
    {
     "data": {
      "text/plain": [
       "'ABC(str(2))'"
      ]
     },
     "execution_count": 8,
     "metadata": {},
     "output_type": "execute_result"
    }
   ],
   "source": [
    "a"
   ]
  },
  {
   "cell_type": "code",
   "execution_count": 13,
   "id": "73074251",
   "metadata": {},
   "outputs": [
    {
     "data": {
      "text/plain": [
       "'ABC(str(2))ABC(str(2))ABC(str(2))ABC(str(2))ABC(str(2))ABC(str(2))ABC(str(2))ABC(str(2))ABC(str(2))ABC(str(2))ABC(str(2))ABC(str(2))ABC(str(2))ABC(str(2))ABC(str(2))ABC(str(2))ABC(str(2))ABC(str(2))ABC(str(2))ABC(str(2))ABC(str(2))ABC(str(2))'"
      ]
     },
     "execution_count": 13,
     "metadata": {},
     "output_type": "execute_result"
    }
   ],
   "source": [
    "a*22"
   ]
  },
  {
   "cell_type": "code",
   "execution_count": 14,
   "id": "52f5367c",
   "metadata": {},
   "outputs": [],
   "source": [
    "langvage=\"python\""
   ]
  },
  {
   "cell_type": "code",
   "execution_count": 16,
   "id": "7c690b14",
   "metadata": {},
   "outputs": [
    {
     "data": {
      "text/plain": [
       "'python'"
      ]
     },
     "execution_count": 16,
     "metadata": {},
     "output_type": "execute_result"
    }
   ],
   "source": [
    "langvage\n"
   ]
  },
  {
   "cell_type": "code",
   "execution_count": 17,
   "id": "a95e6728",
   "metadata": {},
   "outputs": [
    {
     "data": {
      "text/plain": [
       "'p'"
      ]
     },
     "execution_count": 17,
     "metadata": {},
     "output_type": "execute_result"
    }
   ],
   "source": [
    "langvage[0]"
   ]
  },
  {
   "cell_type": "code",
   "execution_count": 18,
   "id": "8dd84247",
   "metadata": {},
   "outputs": [
    {
     "data": {
      "text/plain": [
       "'y'"
      ]
     },
     "execution_count": 18,
     "metadata": {},
     "output_type": "execute_result"
    }
   ],
   "source": [
    "langvage[-5]"
   ]
  },
  {
   "cell_type": "code",
   "execution_count": 19,
   "id": "90190556",
   "metadata": {},
   "outputs": [
    {
     "data": {
      "text/plain": [
       "'pto'"
      ]
     },
     "execution_count": 19,
     "metadata": {},
     "output_type": "execute_result"
    }
   ],
   "source": [
    "langvage[0:6:2]"
   ]
  },
  {
   "cell_type": "code",
   "execution_count": 20,
   "id": "8f0b6930",
   "metadata": {},
   "outputs": [
    {
     "data": {
      "text/plain": [
       "'asdfghjjkl'"
      ]
     },
     "execution_count": 20,
     "metadata": {},
     "output_type": "execute_result"
    }
   ],
   "source": [
    "num=\"asdfghjjkl\"\n",
    "num"
   ]
  },
  {
   "cell_type": "markdown",
   "id": "c4071bfd",
   "metadata": {},
   "source": [
    "##slicing"
   ]
  },
  {
   "cell_type": "code",
   "execution_count": 21,
   "id": "622e2d08",
   "metadata": {},
   "outputs": [],
   "source": [
    "##adgjk"
   ]
  },
  {
   "cell_type": "code",
   "execution_count": 22,
   "id": "69ea5237",
   "metadata": {},
   "outputs": [
    {
     "data": {
      "text/plain": [
       "'adgjk'"
      ]
     },
     "execution_count": 22,
     "metadata": {},
     "output_type": "execute_result"
    }
   ],
   "source": [
    "num[0:10:2]"
   ]
  },
  {
   "cell_type": "code",
   "execution_count": 23,
   "id": "00988b22",
   "metadata": {},
   "outputs": [],
   "source": []
  },
  {
   "cell_type": "code",
   "execution_count": 26,
   "id": "0664076d",
   "metadata": {},
   "outputs": [],
   "source": [
    "x=\"john,becy,maskis,tavid\""
   ]
  },
  {
   "cell_type": "code",
   "execution_count": 28,
   "id": "0cf9de7d",
   "metadata": {},
   "outputs": [
    {
     "data": {
      "text/plain": [
       "True"
      ]
     },
     "execution_count": 28,
     "metadata": {},
     "output_type": "execute_result"
    }
   ],
   "source": [
    "\"john\" in x"
   ]
  },
  {
   "cell_type": "code",
   "execution_count": 29,
   "id": "78c0e0ec",
   "metadata": {},
   "outputs": [
    {
     "data": {
      "text/plain": [
       "False"
      ]
     },
     "execution_count": 29,
     "metadata": {},
     "output_type": "execute_result"
    }
   ],
   "source": [
    "\",\" not in x"
   ]
  },
  {
   "cell_type": "code",
   "execution_count": 30,
   "id": "25c9542f",
   "metadata": {},
   "outputs": [
    {
     "data": {
      "text/plain": [
       "True"
      ]
     },
     "execution_count": 30,
     "metadata": {},
     "output_type": "execute_result"
    }
   ],
   "source": [
    "\"tavid\" in x"
   ]
  },
  {
   "cell_type": "code",
   "execution_count": 31,
   "id": "dd3eeb87",
   "metadata": {},
   "outputs": [
    {
     "data": {
      "text/plain": [
       "True"
      ]
     },
     "execution_count": 31,
     "metadata": {},
     "output_type": "execute_result"
    }
   ],
   "source": [
    "\"becy\" in x"
   ]
  },
  {
   "cell_type": "code",
   "execution_count": 36,
   "id": "ca23961b",
   "metadata": {},
   "outputs": [
    {
     "name": "stdout",
     "output_type": "stream",
     "text": [
      "j\n",
      "o\n",
      "h\n",
      "n\n",
      ",\n",
      "b\n",
      "e\n",
      "c\n",
      "y\n",
      ",\n",
      "m\n",
      "a\n",
      "s\n",
      "k\n",
      "i\n",
      "s\n",
      ",\n",
      "t\n",
      "a\n",
      "v\n",
      "i\n",
      "d\n"
     ]
    }
   ],
   "source": [
    "for i in x:\n",
    "    print(i)"
   ]
  },
  {
   "cell_type": "code",
   "execution_count": null,
   "id": "6602ce76",
   "metadata": {},
   "outputs": [],
   "source": [
    " a=int(input(\"please enter your number\"))\n",
    "     if a>100:\n",
    "    print(\"the number you have entered is greater than 100\")\n",
    "    \n",
    "    elif a==100:\n",
    "         print(\"the number you have entered is equal to 100\")\n",
    "        \n",
    "    else:\n",
    "        print(\"the number you have entered is less than 100\")\n",
    "         \n",
    "            \n",
    "    \n",
    "\n",
    "   \n",
    "   \n"
   ]
  },
  {
   "cell_type": "code",
   "execution_count": null,
   "id": "f86782ab",
   "metadata": {},
   "outputs": [],
   "source": [
    " \n",
    "    a=100\n",
    "    if a>100:\n",
    "    print(\"the number you have entered is greater than 100\")\n",
    "    \n",
    "    elif a==100:\n",
    "         print(\"the number you have entered is equal to 100\")\n",
    "        \n",
    "    else:\n",
    "        print(\"the number you have entered is less than 100\")\n",
    "         \n",
    "            \n",
    "    "
   ]
  },
  {
   "cell_type": "code",
   "execution_count": null,
   "id": "69fc4109",
   "metadata": {},
   "outputs": [],
   "source": [
    "a=10\n",
    "\n",
    "if a==10:\n",
    "    print(\"it is 10\")"
   ]
  },
  {
   "cell_type": "code",
   "execution_count": null,
   "id": "2f95f7a1",
   "metadata": {},
   "outputs": [],
   "source": [
    "langvage=\"python\""
   ]
  },
  {
   "cell_type": "code",
   "execution_count": null,
   "id": "b2a90750",
   "metadata": {},
   "outputs": [],
   "source": [
    "langvage"
   ]
  },
  {
   "cell_type": "code",
   "execution_count": null,
   "id": "d66531a6",
   "metadata": {},
   "outputs": [],
   "source": []
  },
  {
   "cell_type": "code",
   "execution_count": null,
   "id": "a8eaa0d3",
   "metadata": {},
   "outputs": [],
   "source": []
  }
 ],
 "metadata": {
  "kernelspec": {
   "display_name": "Python 3 (ipykernel)",
   "language": "python",
   "name": "python3"
  },
  "language_info": {
   "codemirror_mode": {
    "name": "ipython",
    "version": 3
   },
   "file_extension": ".py",
   "mimetype": "text/x-python",
   "name": "python",
   "nbconvert_exporter": "python",
   "pygments_lexer": "ipython3",
   "version": "3.9.7"
  }
 },
 "nbformat": 4,
 "nbformat_minor": 5
}
