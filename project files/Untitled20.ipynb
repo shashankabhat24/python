{
 "cells": [
  {
   "cell_type": "code",
   "execution_count": 1,
   "id": "af6cfdbb",
   "metadata": {},
   "outputs": [],
   "source": [
    "import numpy as np\n",
    "import random"
   ]
  },
  {
   "cell_type": "code",
   "execution_count": 6,
   "id": "5783c27c",
   "metadata": {},
   "outputs": [],
   "source": [
    "a=np.array([1,2,3,4,5,6,7,8,9])"
   ]
  },
  {
   "cell_type": "code",
   "execution_count": 9,
   "id": "eea950e7",
   "metadata": {},
   "outputs": [
    {
     "data": {
      "text/plain": [
       "array([8, 1, 4, 2, 5, 6, 9, 7, 3])"
      ]
     },
     "execution_count": 9,
     "metadata": {},
     "output_type": "execute_result"
    }
   ],
   "source": [
    "np.random.permutation(a)"
   ]
  },
  {
   "cell_type": "code",
   "execution_count": 18,
   "id": "44a93c30",
   "metadata": {},
   "outputs": [
    {
     "data": {
      "text/plain": [
       "array([[0, 1, 2],\n",
       "       [3, 4, 5],\n",
       "       [6, 7, 8]])"
      ]
     },
     "execution_count": 18,
     "metadata": {},
     "output_type": "execute_result"
    }
   ],
   "source": [
    "np.arange(9).reshape(3,3)\n"
   ]
  },
  {
   "cell_type": "code",
   "execution_count": 1,
   "id": "ee57d53a",
   "metadata": {},
   "outputs": [
    {
     "ename": "NameError",
     "evalue": "name '_name_' is not defined",
     "output_type": "error",
     "traceback": [
      "\u001b[0;31m---------------------------------------------------------------------------\u001b[0m",
      "\u001b[0;31mNameError\u001b[0m                                 Traceback (most recent call last)",
      "\u001b[0;32m/tmp/ipykernel_4907/935684500.py\u001b[0m in \u001b[0;36m<module>\u001b[0;34m\u001b[0m\n\u001b[1;32m     40\u001b[0m \u001b[0;34m\u001b[0m\u001b[0m\n\u001b[1;32m     41\u001b[0m \u001b[0;34m\u001b[0m\u001b[0m\n\u001b[0;32m---> 42\u001b[0;31m \u001b[0;32mif\u001b[0m \u001b[0m_name_\u001b[0m \u001b[0;34m==\u001b[0m \u001b[0;34m'_main_'\u001b[0m\u001b[0;34m:\u001b[0m\u001b[0;34m\u001b[0m\u001b[0;34m\u001b[0m\u001b[0m\n\u001b[0m\u001b[1;32m     43\u001b[0m     \u001b[0mgolo\u001b[0m\u001b[0;34m(\u001b[0m\u001b[0;36m288\u001b[0m\u001b[0;34m,\u001b[0m \u001b[0;34m'crimson'\u001b[0m\u001b[0;34m)\u001b[0m\u001b[0;34m\u001b[0m\u001b[0;34m\u001b[0m\u001b[0m\n\u001b[1;32m     44\u001b[0m     \u001b[0mgolo\u001b[0m\u001b[0;34m(\u001b[0m\u001b[0;36m234\u001b[0m\u001b[0;34m,\u001b[0m \u001b[0;34m'snow'\u001b[0m\u001b[0;34m)\u001b[0m\u001b[0;34m\u001b[0m\u001b[0;34m\u001b[0m\u001b[0m\n",
      "\u001b[0;31mNameError\u001b[0m: name '_name_' is not defined"
     ]
    }
   ],
   "source": [
    "import turtle\n",
    "import math\n",
    "\n",
    "t = turtle.Turtle()\n",
    "\n",
    "\n",
    "def ankur(x, y):\n",
    "    t.penup()\n",
    "    t.goto(x, y)\n",
    "    t.pendown()\n",
    "    t.setheading(0)\n",
    "    t.pensize(2)\n",
    "    t.speed(10)\n",
    "\n",
    "\n",
    "def golo(r, color):\n",
    "    x_point = 0\n",
    "    y_pont = -r\n",
    "    ankur(x_point, y_pont)\n",
    "    t.pencolor(color)\n",
    "    t.fillcolor(color)\n",
    "    t.begin_fill()\n",
    "    t.circle(r)\n",
    "    t.end_fill()\n",
    "\n",
    "\n",
    "def paanch(r, color):\n",
    "    ankur(0, 0)\n",
    "    t.pencolor(color)\n",
    "    t.setheading(162)\n",
    "    t.forward(r)\n",
    "    t.setheading(0)\n",
    "    t.fillcolor(color)\n",
    "    t.begin_fill()\n",
    "    for i in range(5):\n",
    "        t.forward(math.cos(math.radians(18)) * 2 * r)  # 2cos18°*r\n",
    "        t.right(144)\n",
    "    t.end_fill()\n",
    "    t.hideturtle()\n",
    "\n",
    "\n",
    "if _name_ == '_main_':\n",
    "    golo(288, 'crimson')\n",
    "    golo(234, 'snow')\n",
    "    golo(174, 'crimson')\n",
    "    golo(114, 'blue')\n",
    "    paanch(114, 'snow')\n",
    "    turtle.done()"
   ]
  },
  {
   "cell_type": "code",
   "execution_count": null,
   "id": "3f30b814",
   "metadata": {},
   "outputs": [],
   "source": []
  }
 ],
 "metadata": {
  "kernelspec": {
   "display_name": "Python 3 (ipykernel)",
   "language": "python",
   "name": "python3"
  },
  "language_info": {
   "codemirror_mode": {
    "name": "ipython",
    "version": 3
   },
   "file_extension": ".py",
   "mimetype": "text/x-python",
   "name": "python",
   "nbconvert_exporter": "python",
   "pygments_lexer": "ipython3",
   "version": "3.9.7"
  }
 },
 "nbformat": 4,
 "nbformat_minor": 5
}
