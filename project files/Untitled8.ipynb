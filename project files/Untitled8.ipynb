{
 "cells": [
  {
   "cell_type": "code",
   "execution_count": 4,
   "id": "ed919cd3",
   "metadata": {},
   "outputs": [],
   "source": [
    "a=\"jsbjb\""
   ]
  },
  {
   "cell_type": "code",
   "execution_count": 5,
   "id": "9f915225",
   "metadata": {},
   "outputs": [
    {
     "data": {
      "text/plain": [
       "'jsbjb'"
      ]
     },
     "execution_count": 5,
     "metadata": {},
     "output_type": "execute_result"
    }
   ],
   "source": [
    "a"
   ]
  },
  {
   "cell_type": "code",
   "execution_count": null,
   "id": "ba103664",
   "metadata": {},
   "outputs": [],
   "source": [
    "num=int(input(\"enter your number \"))\n",
    "\n",
    "while num>=0:\n",
    "    print(num)\n",
    "    num+=1\n",
    "    if num<=60:\n",
    "        break\n",
    "    elif num>50:\n",
    "        continue\n",
    "    else:\n",
    "        exit(\"go home it's not your day\")"
   ]
  },
  {
   "cell_type": "code",
   "execution_count": null,
   "id": "aa5efd8e",
   "metadata": {},
   "outputs": [],
   "source": [
    "\n",
    "        "
   ]
  },
  {
   "cell_type": "code",
   "execution_count": null,
   "id": "4bef95dd",
   "metadata": {},
   "outputs": [],
   "source": [
    "a=\"nscn\"\n",
    "a"
   ]
  },
  {
   "cell_type": "code",
   "execution_count": null,
   "id": "09e184ca",
   "metadata": {},
   "outputs": [],
   "source": []
  }
 ],
 "metadata": {
  "kernelspec": {
   "display_name": "Python 3 (ipykernel)",
   "language": "python",
   "name": "python3"
  },
  "language_info": {
   "codemirror_mode": {
    "name": "ipython",
    "version": 3
   },
   "file_extension": ".py",
   "mimetype": "text/x-python",
   "name": "python",
   "nbconvert_exporter": "python",
   "pygments_lexer": "ipython3",
   "version": "3.9.7"
  }
 },
 "nbformat": 4,
 "nbformat_minor": 5
}
